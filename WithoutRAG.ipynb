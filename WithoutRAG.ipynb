{
  "nbformat": 4,
  "nbformat_minor": 0,
  "metadata": {
    "colab": {
      "provenance": []
    },
    "kernelspec": {
      "name": "python3",
      "display_name": "Python 3"
    },
    "language_info": {
      "name": "python"
    }
  },
  "cells": [
    {
      "cell_type": "code",
      "execution_count": null,
      "metadata": {
        "colab": {
          "base_uri": "https://localhost:8080/"
        },
        "id": "llP9Y7iIVGeO",
        "outputId": "9166ede7-580a-4fde-cf71-29710c245b0f"
      },
      "outputs": [
        {
          "output_type": "stream",
          "name": "stdout",
          "text": [
            "\u001b[2K     \u001b[90m━━━━━━━━━━━━━━━━━━━━━━━━━━━━━━━━━━━━━━━━\u001b[0m \u001b[32m811.8/811.8 kB\u001b[0m \u001b[31m8.1 MB/s\u001b[0m eta \u001b[36m0:00:00\u001b[0m\n",
            "\u001b[2K     \u001b[90m━━━━━━━━━━━━━━━━━━━━━━━━━━━━━━━━━━━━━━━━\u001b[0m \u001b[32m1.6/1.6 MB\u001b[0m \u001b[31m14.1 MB/s\u001b[0m eta \u001b[36m0:00:00\u001b[0m\n",
            "\u001b[2K     \u001b[90m━━━━━━━━━━━━━━━━━━━━━━━━━━━━━━━━━━━━━━━━\u001b[0m \u001b[32m49.4/49.4 kB\u001b[0m \u001b[31m5.6 MB/s\u001b[0m eta \u001b[36m0:00:00\u001b[0m\n",
            "\u001b[?25h"
          ]
        }
      ],
      "source": [
        "%pip install --upgrade --quiet  langchain openai"
      ]
    },
    {
      "cell_type": "code",
      "source": [
        "import os\n",
        "from langchain.chat_models import ChatAnyscale\n",
        "from langchain_core.output_parsers import StrOutputParser\n",
        "from langchain_core.prompts import ChatPromptTemplate\n",
        "from google.colab import userdata\n",
        "\n",
        "os.environ['OPENAI_API_KEY'] = userdata.get('OPENAI_API_KEY')\n",
        "anyscale_endpoint_token = userdata.get('ANYSCALE_TOKEN')"
      ],
      "metadata": {
        "id": "w2cFtAJhZPXn"
      },
      "execution_count": null,
      "outputs": []
    },
    {
      "cell_type": "code",
      "source": [
        "llm = ChatAnyscale(\n",
        "    anyscale_api_key=anyscale_endpoint_token,\n",
        "    model_name=\"mistralai/Mistral-7B-Instruct-v0.1\",\n",
        "    temperature=0,\n",
        ")"
      ],
      "metadata": {
        "id": "dNwmXTYPb4Ef"
      },
      "execution_count": null,
      "outputs": []
    },
    {
      "cell_type": "code",
      "source": [
        "from langchain.prompts import PromptTemplate\n",
        "\n",
        "template = \"\"\"You are a legal assistant that answers questions about Sri Lankan Marraige Law. If you don't know the answer, you will say that you don't know.\n",
        "\n",
        "Question: {question}\n",
        "\n",
        "Answer:\"\"\"\n",
        "prompt = PromptTemplate.from_template(template)\n",
        "output_parser = StrOutputParser()\n",
        "chain = prompt | llm | output_parser"
      ],
      "metadata": {
        "id": "v1XLIT8-deGd"
      },
      "execution_count": null,
      "outputs": []
    },
    {
      "cell_type": "code",
      "source": [
        "from IPython.display import Markdown, display\n",
        "def pp_markdown(content):\n",
        "    display(Markdown(content))"
      ],
      "metadata": {
        "id": "8d8LY5Uudxc_"
      },
      "execution_count": null,
      "outputs": []
    },
    {
      "cell_type": "code",
      "source": [
        "question = \"What are the legal requirements for the solemnization of marriage in the presence of a registrar?\"\n",
        "\n",
        "pp_markdown(chain.invoke({\"question\": question}))"
      ],
      "metadata": {
        "colab": {
          "base_uri": "https://localhost:8080/",
          "height": 248
        },
        "id": "lz9gPt-MdnBF",
        "outputId": "04fe49a2-e889-4592-be69-56ea42c9f155"
      },
      "execution_count": null,
      "outputs": [
        {
          "output_type": "display_data",
          "data": {
            "text/plain": [
              "<IPython.core.display.Markdown object>"
            ],
            "text/markdown": " In Sri Lanka, the legal requirements for the solemnization of marriage in the presence of a registrar are as follows:\n\n1. Age: Both parties must be at least 21 years old.\n2. Consent: Both parties must give their free and full consent to the marriage.\n3. Marriage Contract: A written marriage contract must be signed by both parties, which includes details such as the names of the parties, the date of marriage, and the terms and conditions of the marriage.\n4. Witnesses: Two witnesses must be present at the marriage ceremony, who are not related to either party.\n5. Registrar: The marriage must be solemnized by a registered marriage officer, who is appointed by the government.\n6. Certificate of Marriage: After the marriage is solemnized, a certificate of marriage is issued by the registrar, which is a legal document that proves the validity of the marriage.\n\nIt is important to note that these requirements are subject to change and may vary depending on the specific circumstances of each case. It is always best to consult with a legal professional for the most up-to-date information and guidance on Sri Lankan marriage law."
          },
          "metadata": {}
        }
      ]
    },
    {
      "cell_type": "code",
      "source": [],
      "metadata": {
        "id": "CqYwqgi0gJEm"
      },
      "execution_count": null,
      "outputs": []
    }
  ]
}